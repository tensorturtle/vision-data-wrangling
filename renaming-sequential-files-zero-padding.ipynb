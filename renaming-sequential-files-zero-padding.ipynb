{
 "cells": [
  {
   "cell_type": "markdown",
   "id": "06ba0d23-63fd-4c76-b15e-fa06cbea1179",
   "metadata": {
    "tags": []
   },
   "source": [
    "# Renaming Sequential Files while Padding them"
   ]
  },
  {
   "cell_type": "markdown",
   "id": "ebd05392-bcbf-4120-b81f-6ccd1710890e",
   "metadata": {},
   "source": [
    "Sometimes you have files that are named something like:\n",
    "```\n",
    "image-1.jpg\n",
    "image-2.jpg\n",
    "...\n",
    "image-9998.jpg\n",
    "image-9999.jpg\n",
    "image-10000.jpg\n",
    "```\n",
    "\n",
    "The problem is when you try to sort these according to alphanumerical order,\n",
    "\n",
    "because then they become out of order:\n",
    "\n",
    "For example,\n",
    "\n",
    "`image-101` would come before `image-99`, because just reading from the front, `image-` is the same, but then `1` is smaller than `9`.\n",
    "\n",
    "So this script fixes that by letting you pad all the numbers with zeros to an equal length.\n",
    "\n",
    "So, result is:\n",
    "\n",
    "```\n",
    "image-000001.jpg\n",
    "image-000002.jpg\n",
    "...\n",
    "image-009998.jpg\n",
    "image-009999.jpg\n",
    "image-010000.jpg\n",
    "```"
   ]
  },
  {
   "cell_type": "code",
   "execution_count": 1,
   "id": "0e2e991c-3696-49d2-aa12-52ac85e46561",
   "metadata": {},
   "outputs": [],
   "source": [
    "import os\n",
    "import glob\n",
    "import re"
   ]
  },
  {
   "cell_type": "markdown",
   "id": "88152f81-cb02-49f0-ae4a-0cfa544663d6",
   "metadata": {},
   "source": [
    "# You Define These"
   ]
  },
  {
   "cell_type": "code",
   "execution_count": 2,
   "id": "eb9a6376-699b-48bf-85c8-56e5154a7aac",
   "metadata": {},
   "outputs": [],
   "source": [
    "real_images_dir = '/home/jasonsohn/Videos/lstr-frames-maroz-gumuz/'"
   ]
  },
  {
   "cell_type": "code",
   "execution_count": 3,
   "id": "ee5939c6-b8ed-4c05-b23d-7d3532009b1c",
   "metadata": {},
   "outputs": [],
   "source": [
    "test_images_dir = '/home/jasonsohn/Downloads/temp_renaming'"
   ]
  },
  {
   "cell_type": "code",
   "execution_count": 4,
   "id": "6a8884b4-a625-4748-b880-696e54dbbdfd",
   "metadata": {},
   "outputs": [],
   "source": [
    "new_images_dir = '/home/jasonsohn/Videos/renamed-lstr-frames-maroz-gumuz/'"
   ]
  },
  {
   "cell_type": "code",
   "execution_count": 5,
   "id": "abaaef53-d722-43d3-955e-6566f2d21ab5",
   "metadata": {},
   "outputs": [],
   "source": [
    "image_folder = real_images_dir"
   ]
  },
  {
   "cell_type": "code",
   "execution_count": 6,
   "id": "7dd3197d-1172-49b3-8d03-ddd6ad1d187d",
   "metadata": {},
   "outputs": [],
   "source": [
    "pad_to = 6 # padding to accomodate up to 1e(pad_to) filenames. For example, if pad_to is 6,\n",
    "# then we will go from 000000 to 999999"
   ]
  },
  {
   "cell_type": "markdown",
   "id": "29d4b3f0-498b-46e7-bdd9-0f8ac8bb0234",
   "metadata": {},
   "source": [
    "# Run these"
   ]
  },
  {
   "cell_type": "code",
   "execution_count": 7,
   "id": "6fc53a82-efba-450a-8e02-b40fb59d9a8a",
   "metadata": {},
   "outputs": [],
   "source": [
    "images = sorted([img for img in os.listdir(image_folder) if img.endswith('.jpg')])"
   ]
  },
  {
   "cell_type": "code",
   "execution_count": 8,
   "id": "87d9f221-fee1-44f1-a11d-950e81f3922c",
   "metadata": {},
   "outputs": [
    {
     "data": {
      "text/plain": [
       "['output_0001.jpg',\n",
       " 'output_0002.jpg',\n",
       " 'output_0003.jpg',\n",
       " 'output_0004.jpg',\n",
       " 'output_0005.jpg',\n",
       " 'output_0006.jpg',\n",
       " 'output_0007.jpg',\n",
       " 'output_0008.jpg',\n",
       " 'output_0009.jpg',\n",
       " 'output_0010.jpg']"
      ]
     },
     "execution_count": 8,
     "metadata": {},
     "output_type": "execute_result"
    }
   ],
   "source": [
    "images[:10] # first 10 filenames"
   ]
  },
  {
   "cell_type": "code",
   "execution_count": 9,
   "id": "0fa10261-029a-4482-baea-441df6dddc5c",
   "metadata": {},
   "outputs": [],
   "source": [
    "def get_int_from_filename(filename):\n",
    "    '''\n",
    "    Return number in a filename (returns all numbers as if they are one, \n",
    "    so this is not a very good program)\n",
    "    \n",
    "    Example input:\n",
    "        \"image_0013.jpg\"\n",
    "    output:\n",
    "        13 (integer)\n",
    "        \n",
    "    '''\n",
    "    file_num_str = ''.join(re.findall(\"[0-9]\", filename))\n",
    "    return int(file_num_str)\n"
   ]
  },
  {
   "cell_type": "code",
   "execution_count": 10,
   "id": "c37fff18-c8ce-4f75-98e7-eda65a8fb84f",
   "metadata": {},
   "outputs": [
    {
     "name": "stdout",
     "output_type": "stream",
     "text": [
      "done\n"
     ]
    }
   ],
   "source": [
    "for filename in images:\n",
    "    file_num_int = get_int_from_filename(filename)\n",
    "    num_zeros_to_prepend = int(pad_to) - len(str(file_num_int))\n",
    "    zero_str_to_prepend = '0'*num_zeros_to_prepend\n",
    "    padded_int_str = zero_str_to_prepend + str(file_num_int)\n",
    "    reconstructed_filename =  f\"output_{padded_int_str}.jpg\"\n",
    "    \n",
    "    full_path_to_filename = os.path.abspath(os.path.join(image_folder, filename))\n",
    "    full_path_to_filename_new = os.path.abspath(os.path.join(new_images_dir, reconstructed_filename))\n",
    "    os.rename(full_path_to_filename, full_path_to_filename_new)\n",
    "\n",
    "print(\"done\")"
   ]
  },
  {
   "cell_type": "code",
   "execution_count": null,
   "id": "7d922ebd-b456-413b-a480-e211311f6391",
   "metadata": {},
   "outputs": [],
   "source": []
  }
 ],
 "metadata": {
  "kernelspec": {
   "display_name": "Python 3 (ipykernel)",
   "language": "python",
   "name": "python3"
  },
  "language_info": {
   "codemirror_mode": {
    "name": "ipython",
    "version": 3
   },
   "file_extension": ".py",
   "mimetype": "text/x-python",
   "name": "python",
   "nbconvert_exporter": "python",
   "pygments_lexer": "ipython3",
   "version": "3.8.10"
  }
 },
 "nbformat": 4,
 "nbformat_minor": 5
}
