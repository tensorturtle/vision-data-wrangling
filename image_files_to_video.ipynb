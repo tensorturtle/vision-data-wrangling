{
 "cells": [
  {
   "cell_type": "markdown",
   "id": "68381922-50a7-47f0-b757-74a1e9d2420a",
   "metadata": {},
   "source": [
    "# Make Video from Images\n",
    "\n",
    "Matplotlib plots are saved as individual .png's if Intercept has 'save_figs' turned on.\n",
    "\n",
    "This is how to turn those .pngs into a video."
   ]
  },
  {
   "cell_type": "code",
   "execution_count": 1,
   "id": "91857637-dcdd-4800-bf03-b79f46fa61c3",
   "metadata": {},
   "outputs": [],
   "source": [
    "import cv2\n",
    "import os\n",
    "import numpy as np\n",
    "import glob"
   ]
  },
  {
   "cell_type": "code",
   "execution_count": 2,
   "id": "e86f116c-224d-44f9-ba34-b0dac40980a5",
   "metadata": {},
   "outputs": [],
   "source": [
    "image_folder = 'saved_figs'\n",
    "video_name = 'figure_video.mp4'\n",
    "\n",
    "images = sorted([img for img in os.listdir(image_folder) if img.endswith('.png')])\n",
    "frame = cv2.imread(os.path.join(image_folder, images[0]))\n",
    "height, width, layers = frame.shape\n",
    "\n",
    "video = cv2.VideoWriter(video_name, cv2.VideoWriter.fourcc(*'mp4v'), 30, (width, height))\n",
    "\n",
    "for image in images:\n",
    "    video.write(cv2.imread(os.path.join(image_folder, image)))\n",
    "    \n",
    "video.release()"
   ]
  }
 ],
 "metadata": {
  "kernelspec": {
   "display_name": "Python 3 (ipykernel)",
   "language": "python",
   "name": "python3"
  },
  "language_info": {
   "codemirror_mode": {
    "name": "ipython",
    "version": 3
   },
   "file_extension": ".py",
   "mimetype": "text/x-python",
   "name": "python",
   "nbconvert_exporter": "python",
   "pygments_lexer": "ipython3",
   "version": "3.8.10"
  }
 },
 "nbformat": 4,
 "nbformat_minor": 5
}
